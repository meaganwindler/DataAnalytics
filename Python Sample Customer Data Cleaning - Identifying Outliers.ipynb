{
 "cells": [
  {
   "cell_type": "code",
   "execution_count": 1,
   "id": "8419019e",
   "metadata": {},
   "outputs": [],
   "source": [
    "import pandas as pd\n",
    "import numpy as np"
   ]
  },
  {
   "cell_type": "code",
   "execution_count": 4,
   "id": "4af3a04c",
   "metadata": {},
   "outputs": [],
   "source": [
    "# Load the CSV file into a Pandas DataFrame\n",
    "file_path = file_path = r\"C:\\Users\\Mwindler\\OneDrive - CommunityCare HMO, Inc\\Documents\\Descriptive Analytics\\Round 2 Simulation\\BUHI_CustomersData_Cleaned.csv\"\n",
    "df = pd.read_csv(file_path)"
   ]
  },
  {
   "cell_type": "code",
   "execution_count": 7,
   "id": "aa48a351",
   "metadata": {},
   "outputs": [],
   "source": [
    "# Function to convert a currency string to a numerical value\n",
    "def currency_to_float(currency_str):\n",
    "    return float(currency_str.replace(\"$\", \"\").replace(\",\", \"\").strip())\n",
    "\n",
    "# Convert \"Annual Income\" and \"Annual Disposal\" columns to numerical values\n",
    "df[\"Annual Income\"] = df[\"Annual Income\"].apply(currency_to_float)\n",
    "df[\"Annual Disposal\"] = df[\"Annual Disposal\"].apply(currency_to_float)"
   ]
  },
  {
   "cell_type": "code",
   "execution_count": 9,
   "id": "4f191a8d",
   "metadata": {},
   "outputs": [
    {
     "name": "stdout",
     "output_type": "stream",
     "text": [
      "Extreme Outliers in Annual Income:\n",
      "Series([], Name: Annual Income, dtype: float64)\n",
      "\n",
      "Extreme Outliers in Annual Disposal:\n",
      "401     14613.0\n",
      "819     15445.0\n",
      "1055    18245.0\n",
      "1433    12600.0\n",
      "1434    12600.0\n",
      "1435    12600.0\n",
      "1436    12600.0\n",
      "1437    12600.0\n",
      "1438    12600.0\n",
      "1439    12600.0\n",
      "1440    12600.0\n",
      "1441    12600.0\n",
      "1442    12600.0\n",
      "1443    12600.0\n",
      "1444    14808.0\n",
      "1491    13500.0\n",
      "1492    13500.0\n",
      "1493    13500.0\n",
      "1494    13500.0\n",
      "1495    13500.0\n",
      "1496    14500.0\n",
      "Name: Annual Disposal, dtype: float64\n"
     ]
    }
   ],
   "source": [
    "# Define a function to detect extreme outliers\n",
    "def find_extreme_outliers(column):\n",
    "    Q1 = column.quantile(0.25)\n",
    "    Q3 = column.quantile(0.75)\n",
    "    IQR = Q3 - Q1\n",
    "    lower_bound = Q1 - 1.5 * IQR\n",
    "    upper_bound = Q3 + 1.5 * IQR\n",
    "    outliers = column[(column < lower_bound) | (column > upper_bound)]\n",
    "    return outliers\n",
    "\n",
    "# Find extreme outliers in the \"Annual Income\" and \"Annual Disposal\" columns\n",
    "income_outliers = find_extreme_outliers(df[\"Annual Income\"])\n",
    "disposal_outliers = find_extreme_outliers(df[\"Annual Disposal\"])\n",
    "\n",
    "# Display extreme outliers\n",
    "print(\"Extreme Outliers in Annual Income:\")\n",
    "print(income_outliers)\n",
    "\n",
    "print(\"\\nExtreme Outliers in Annual Disposal:\")\n",
    "print(disposal_outliers)"
   ]
  },
  {
   "cell_type": "code",
   "execution_count": 10,
   "id": "14840886",
   "metadata": {},
   "outputs": [
    {
     "name": "stdout",
     "output_type": "stream",
     "text": [
      "Sorted Extreme Outliers in Annual Disposal:\n",
      "1440    12600.0\n",
      "1433    12600.0\n",
      "1434    12600.0\n",
      "1435    12600.0\n",
      "1436    12600.0\n",
      "1437    12600.0\n",
      "1438    12600.0\n",
      "1439    12600.0\n",
      "1441    12600.0\n",
      "1442    12600.0\n",
      "1443    12600.0\n",
      "1494    13500.0\n",
      "1493    13500.0\n",
      "1495    13500.0\n",
      "1492    13500.0\n",
      "1491    13500.0\n",
      "1496    14500.0\n",
      "401     14613.0\n",
      "1444    14808.0\n",
      "819     15445.0\n",
      "1055    18245.0\n",
      "Name: Annual Disposal, dtype: float64\n"
     ]
    }
   ],
   "source": [
    "# Sort the extreme outliers from smallest to largest\n",
    "sorted_disposal_outliers = disposal_outliers.sort_values()\n",
    "\n",
    "# Display sorted extreme outliers\n",
    "print(\"Sorted Extreme Outliers in Annual Disposal:\")\n",
    "print(sorted_disposal_outliers)"
   ]
  },
  {
   "cell_type": "code",
   "execution_count": null,
   "id": "9d1649fd",
   "metadata": {},
   "outputs": [],
   "source": []
  }
 ],
 "metadata": {
  "kernelspec": {
   "display_name": "Python 3 (ipykernel)",
   "language": "python",
   "name": "python3"
  },
  "language_info": {
   "codemirror_mode": {
    "name": "ipython",
    "version": 3
   },
   "file_extension": ".py",
   "mimetype": "text/x-python",
   "name": "python",
   "nbconvert_exporter": "python",
   "pygments_lexer": "ipython3",
   "version": "3.11.4"
  }
 },
 "nbformat": 4,
 "nbformat_minor": 5
}
