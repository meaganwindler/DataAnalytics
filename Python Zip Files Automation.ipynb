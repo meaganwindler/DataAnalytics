{
 "cells": [
  {
   "cell_type": "code",
   "execution_count": 1,
   "id": "dd8110a5",
   "metadata": {},
   "outputs": [
    {
     "name": "stdout",
     "output_type": "stream",
     "text": [
      "All text files in \\\\twr-sas-1\\DAR\\HDA\\Regulatory Reporting\\Change HealthCare - Risk Implementation\\Commercial\\Files for Change have been individually zipped.\n"
     ]
    }
   ],
   "source": [
    "#code to zip inidividual .txt files\n",
    "\n",
    "import zipfile\n",
    "import os\n",
    "import glob\n",
    "\n",
    "# Define the directory containing the text files\n",
    "directory = r'\\\\twr-sas-1\\DAR\\HDA\\Regulatory Reporting\\Change HealthCare - Risk Implementation\\Commercial\\Files for Change'\n",
    "\n",
    "# Navigate to the directory\n",
    "os.chdir(directory)\n",
    "\n",
    "# Loop through all .txt files in the directory\n",
    "for file in glob.glob('*.txt'):\n",
    "    # Define the name of the output zip file\n",
    "    output_zip = f'{os.path.splitext(file)[0]}.zip'\n",
    "\n",
    "    # Create a new zip file for each text file\n",
    "    with zipfile.ZipFile(output_zip, 'w') as zipf:\n",
    "        # Add the file to the zip\n",
    "        zipf.write(file)\n",
    "\n",
    "print(f'All text files in {directory} have been individually zipped.')"
   ]
  },
  {
   "cell_type": "code",
   "execution_count": 1,
   "id": "a8e83b88",
   "metadata": {},
   "outputs": [
    {
     "name": "stdout",
     "output_type": "stream",
     "text": [
      "Current directory: \\\\twr-sas-1\\DAR\\HDA\\Regulatory Reporting\\Change HealthCare - Risk Implementation\\Commercial\\Annual Files sent to Optum\n",
      "No .txt files found in the directory.\n",
      "File 87698.ECD.D20240112T080052.P.xml zipped as 87698.ECD.D20240112T080052.P.zip\n",
      "File 87698.RACSD.D20240112T080603.P.xml zipped as 87698.RACSD.D20240112T080603.P.zip\n",
      "File 87698.RARSD.D20240112T080603.P.xml zipped as 87698.RARSD.D20240112T080603.P.zip\n",
      "File 98905.ECD.D20240112T080116.P.xml zipped as 98905.ECD.D20240112T080116.P.zip\n",
      "File 98905.RACSD.D20240112T081420.P.xml zipped as 98905.RACSD.D20240112T081420.P.zip\n",
      "File 98905.RARSD.D20240112T081420.P.xml zipped as 98905.RARSD.D20240112T081420.P.zip\n",
      "All XML files in \\\\twr-sas-1\\DAR\\HDA\\Regulatory Reporting\\Change HealthCare - Risk Implementation\\Commercial\\Annual Files sent to Optum have been individually zipped.\n"
     ]
    }
   ],
   "source": [
    "#code to zip inidividual .xml files\n",
    "\n",
    "\n",
    "import zipfile\n",
    "import os\n",
    "import glob\n",
    "\n",
    "# Define the directory containing the text files\n",
    "directory = r'\\\\twr-sas-1\\DAR\\HDA\\Regulatory Reporting\\Change HealthCare - Risk Implementation\\Commercial\\Annual Files sent to Optum'\n",
    "\n",
    "# Navigate to the directory\n",
    "os.chdir(directory)\n",
    "print(f\"Current directory: {os.getcwd()}\")\n",
    "\n",
    "# Check if there are any .txt files in the directory\n",
    "txt_files = glob.glob('*.txt')\n",
    "if not txt_files:\n",
    "    print(\"No .txt files found in the directory.\")\n",
    "else:\n",
    "    print(f\"Found {len(txt_files)} .txt files.\")\n",
    "\n",
    "# Loop through all .xml files in the directory\n",
    "for file in glob.glob('*.xml'):\n",
    "    # Define the name of the output zip file\n",
    "    output_zip = f'{os.path.splitext(file)[0]}.zip'\n",
    "\n",
    "    # Create a new zip file for each XML file\n",
    "    with zipfile.ZipFile(output_zip, 'w') as zipf:\n",
    "        # Add the file to the zip\n",
    "        zipf.write(file)\n",
    "        print(f\"File {file} zipped as {output_zip}\")\n",
    "        \n",
    "print(f'All XML files in {directory} have been individually zipped.')\n"
   ]
  },
  {
   "cell_type": "code",
   "execution_count": null,
   "id": "07fe0208",
   "metadata": {},
   "outputs": [],
   "source": []
  }
 ],
 "metadata": {
  "kernelspec": {
   "display_name": "Python 3 (ipykernel)",
   "language": "python",
   "name": "python3"
  },
  "language_info": {
   "codemirror_mode": {
    "name": "ipython",
    "version": 3
   },
   "file_extension": ".py",
   "mimetype": "text/x-python",
   "name": "python",
   "nbconvert_exporter": "python",
   "pygments_lexer": "ipython3",
   "version": "3.11.4"
  }
 },
 "nbformat": 4,
 "nbformat_minor": 5
}
